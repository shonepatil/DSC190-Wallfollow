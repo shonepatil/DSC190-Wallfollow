{
 "cells": [
  {
   "cell_type": "markdown",
   "metadata": {},
   "source": [
    "<div class=\"jumbotron m-0\">\n",
    "    <hr />\n",
    "    <h1 class=\"text-center\">\n",
    "        <span class=\"text-primary\">ROS2 Basics in 5 Days: Course Project</span>\n",
    "    </h1>\n",
    "    <hr />\n",
    "</div>"
   ]
  },
  {
   "cell_type": "markdown",
   "metadata": {},
   "source": [
    "<img src=\"ros2_basics_details.png\" width=\"400\"/>"
   ]
  },
  {
   "cell_type": "markdown",
   "metadata": {},
   "source": [
    "<div class=\"bg-primary text-center\">\n",
    "    - Summary -\n",
    "</div>"
   ]
  },
  {
   "cell_type": "markdown",
   "metadata": {},
   "source": [
    "**In this rosject, you will have to apply all that you have learned throughout the ROS2 Basics course to a real robot.**\n",
    "\n",
    "- You will practice with a simulation and a real robot.\n",
    "- The real robot is a TurtleBot3, which is running in Barcelona, Spain. You will connect remotely to it and practice on it."
   ]
  },
  {
   "cell_type": "markdown",
   "metadata": {},
   "source": [
    "<div class=\"bg-primary text-center\">\n",
    "    - End of Summary -\n",
    "</div>"
   ]
  },
  {
   "cell_type": "markdown",
   "metadata": {},
   "source": [
    "<div>\n",
    "    <h1 class=\"text-center\">\n",
    "        <span class=\"text-primary\">Section 0</span>\n",
    "        &nbsp;\n",
    "        <span class=\"\">How to proceed</span>\n",
    "    </h1>\n",
    "</div>"
   ]
  },
  {
   "cell_type": "markdown",
   "metadata": {},
   "source": [
    "<div>\n",
    "    <h1 class=\"text-center\">\n",
    "        <span class=\"text-primary\"></span>\n",
    "        &nbsp;\n",
    "        <span class=\"\">The rosject environment</span>\n",
    "    </h1>\n",
    "</div>"
   ]
  },
  {
   "cell_type": "markdown",
   "metadata": {},
   "source": [
    "If this is the first time you've used a rosject, then it might seem a little confusing at first. Don't worry, you'll get the hang of it. Rosjects give you more freedom when you are developing your programs, and allow you to launch more than one simulation and unlimited terminals. It also allows you to connect to real robots. This is what each button from the bottom menu bar represents:"
   ]
  },
  {
   "cell_type": "markdown",
   "metadata": {},
   "source": [
    "* Terminals"
   ]
  },
  {
   "cell_type": "markdown",
   "metadata": {},
   "source": [
    "<img src=\"realrobotlab_notebooks/term.png\" align=\"left\" width=\"50\"/>"
   ]
  },
  {
   "cell_type": "markdown",
   "metadata": {},
   "source": [
    "This is where you will do most of the work, looking for topics, running commands and checking nodes are just a few things. It is the main interface with the linux based virtual machine running behind this rosject."
   ]
  },
  {
   "cell_type": "markdown",
   "metadata": {},
   "source": [
    "* IDE"
   ]
  },
  {
   "cell_type": "markdown",
   "metadata": {},
   "source": [
    "<img src=\"realrobotlab_notebooks/IDE_icon.png\" align=\"left\" width=\"50\"/>"
   ]
  },
  {
   "cell_type": "markdown",
   "metadata": {},
   "source": [
    "The code editor. Very similar to Visual Studio Code. You will write your programs here, and you can also see the folder organization of the rosject. It is worth taking a minute here to identify the most important worskpaces where you will be working and the ones you don't need to pay attention:\n",
    "* `catkin_ws`: The main workspace. ALL of your work will be in here, inside the `src` directory\n",
    "* `simulation_ws`: The workspace where all of the code relating to the simulation is. You do not need to work in here, in fact you can forget about it\n",
    "* `notebook_ws`: The workspace where the notebook and associated images are stored. You do not need to work in here, in fact you can forget about it"
   ]
  },
  {
   "cell_type": "markdown",
   "metadata": {},
   "source": [
    "* Notebook"
   ]
  },
  {
   "cell_type": "markdown",
   "metadata": {},
   "source": [
    "<img src=\"realrobotlab_notebooks/notebook_icon.png\" align=\"left\" width=\"50\"/>"
   ]
  },
  {
   "cell_type": "markdown",
   "metadata": {},
   "source": [
    "Opens the default notebook for the rosject. In this case, it's the one you are reading now."
   ]
  },
  {
   "cell_type": "markdown",
   "metadata": {},
   "source": [
    "* Simulation"
   ]
  },
  {
   "cell_type": "markdown",
   "metadata": {},
   "source": [
    "<img src=\"realrobotlab_notebooks/robotarm/gazebo_icon.png\" align=\"left\" width=\"50\"/>"
   ]
  },
  {
   "cell_type": "markdown",
   "metadata": {},
   "source": [
    "Opens the simulation **if a simulation has been launched from a terminal**. You can also select template simulations, but stick to the project simulation in here."
   ]
  },
  {
   "cell_type": "markdown",
   "metadata": {},
   "source": [
    "* Graphical tools"
   ]
  },
  {
   "cell_type": "markdown",
   "metadata": {},
   "source": [
    "<img src=\"realrobotlab_notebooks/robotarm/grphical_tools_ico.png\" align=\"left\" width=\"50\"/>"
   ]
  },
  {
   "cell_type": "markdown",
   "metadata": {},
   "source": [
    "Opens `rviz` **if rviz has been launched from a terminal**. You will also see any other GUI applications in here, like `rqt`."
   ]
  },
  {
   "cell_type": "markdown",
   "metadata": {},
   "source": [
    "* Robot booking"
   ]
  },
  {
   "cell_type": "markdown",
   "metadata": {},
   "source": [
    "<img src=\"realrobotlab_notebooks/robot_booking_icon.png\" align=\"left\" width=\"50\"/>"
   ]
  },
  {
   "cell_type": "markdown",
   "metadata": {},
   "source": [
    "Connects to the real robot lab **if you have a booking at that moment**. To learn how to book the real robot, go to the Appendix of this notebook."
   ]
  },
  {
   "cell_type": "markdown",
   "metadata": {},
   "source": [
    "* Course notebooks"
   ]
  },
  {
   "cell_type": "markdown",
   "metadata": {},
   "source": [
    "<img src=\"realrobotlab_notebooks/course_notebooks_icon.png\" align=\"left\" width=\"50\"/>"
   ]
  },
  {
   "cell_type": "markdown",
   "metadata": {},
   "source": [
    "Opens any notebook from all of our courses. Very useful if you want to quickly check something from the course without having to open it."
   ]
  },
  {
   "cell_type": "markdown",
   "metadata": {},
   "source": [
    "* Connect your OWN robot"
   ]
  },
  {
   "cell_type": "markdown",
   "metadata": {},
   "source": [
    "<img src=\"realrobotlab_notebooks/robot_connect_icon.png\" align=\"left\" width=\"50\"/>"
   ]
  },
  {
   "cell_type": "markdown",
   "metadata": {},
   "source": [
    "Allows you to configure and connect to your own robot. If you want to learn how to do it, check out this video: \n",
    "https://www.youtube.com/watch?v=W4LfASoP-ak"
   ]
  },
  {
   "cell_type": "markdown",
   "metadata": {},
   "source": [
    "<div>\n",
    "    <h1 class=\"text-center\">\n",
    "        <span class=\"text-primary\"></span>\n",
    "        &nbsp;\n",
    "        <span class=\"\">The project</span>\n",
    "    </h1>\n",
    "</div>"
   ]
  },
  {
   "cell_type": "markdown",
   "metadata": {},
   "source": [
    "This rosject is in three parts. Complete each section as directed in the **ROS2 Basics Python in 5 Days** course. "
   ]
  },
  {
   "cell_type": "markdown",
   "metadata": {},
   "source": [
    "* **Section 1**: Practice for topic Publishers and Subscribers\n",
    "* **Section 2**: Practice for Services\n",
    "* **Section 3**: Practice for Actions"
   ]
  },
  {
   "cell_type": "markdown",
   "metadata": {},
   "source": [
    "Go to the part that the course indicates to you and try to finish it. But before doing that, **launch the simulation** of the project. You will use the simulation to practice with the simulated environment."
   ]
  },
  {
   "cell_type": "markdown",
   "metadata": {},
   "source": [
    "<h1 align=\"center\";> </h1>\n",
    "<div>\n",
    "    <h1 class=\"text-center\">\n",
    "        <span class=\"text-primary\">0.1</span>\n",
    "        &nbsp;\n",
    "        <span class=\"\">Launching a simulation</span>\n",
    "    </h1>\n",
    "</div>"
   ]
  },
  {
   "cell_type": "markdown",
   "metadata": {},
   "source": [
    "Before working on your code, you need a simulation (or an actual robot) to be running. During the course, you saw the simulation running in the top right corner. In there, the simulation launch is done automatically.\n",
    "\n",
    "In here, our development environment that we call rosjects, you will have to launch the simulation in order to start working. This allows you to have more freedom while developing and you can even create your own simulations! \n",
    "\n",
    "For now though, let's focus on launching the simulation we will need for the project:"
   ]
  },
  {
   "cell_type": "markdown",
   "metadata": {},
   "source": [
    "1. Open a terminal by pressing on the *terminal icon* at the bottom left croner of your screen.\n",
    "\n",
    "2. On the opened terminal, type the following ROS command that launches the simulation"
   ]
  },
  {
   "cell_type": "markdown",
   "metadata": {},
   "source": [
    "<span class=\"badge badge-pill badge-primary\">\n",
    "    <i class=\"fa fa-play\"></i>\n",
    "    &nbsp;\n",
    "    Execute in a Terminal\n",
    "</span>"
   ]
  },
  {
   "cell_type": "code",
   "execution_count": null,
   "metadata": {},
   "outputs": [],
   "source": [
    "source /opt/ros/noetic/setup.bash\n",
    "source ~/simulation_ws/devel/setup.bash\n",
    "roslaunch realrobotlab main.launch"
   ]
  },
  {
   "cell_type": "markdown",
   "metadata": {},
   "source": [
    "To see the simulation, click the Gazebo button at the bottom left side of your screen, and select Open Gazebo.\n",
    "<img src=\"gazebo_superapp.png\"/>\n",
    "\n",
    "**Wait approximately 30 seconds** for the simulation to start. The simulation should appear in the Gazebo window.\n",
    "\n"
   ]
  },
  {
   "cell_type": "markdown",
   "metadata": {},
   "source": [
    "<img src=\"new_sim.png\"/>"
   ]
  },
  {
   "cell_type": "markdown",
   "metadata": {},
   "source": [
    "### ros1_bridge\n",
    "\n",
    "**NOTE:** You are using ROS1 commands to launch the simulation because the RoBoX simulation is currently made for the Noetic distribution. Communication between the simulation and ROS2 is made possible by using *ros1_bridge*.\n",
    "\n",
    "To communicate between the simulation and your programs in ROS2 Foxy, make use of the helpful *ros1_bridge*. Dedicate a terminal to it.\n",
    "\n",
    "1. Open a terminal by clicking the *terminal icon* at the bottom left of your screen.\n",
    "\n",
    "<img src=\"open_terminal_superapp.png\"/>\n",
    "\n",
    "2. Type the following commands to launch the bridge:"
   ]
  },
  {
   "cell_type": "markdown",
   "metadata": {},
   "source": [
    "<span class=\"badge badge-pill badge-primary\">\n",
    "    <i class=\"fa fa-play\"></i>\n",
    "    &nbsp;\n",
    "    Execute in a Shell\n",
    "</span>"
   ]
  },
  {
   "cell_type": "code",
   "execution_count": null,
   "metadata": {},
   "outputs": [],
   "source": [
    "source ~/.bashrc_bridge\n",
    "ros2 run ros1_bridge dynamic_bridge --bridge-all-topics"
   ]
  },
  {
   "cell_type": "markdown",
   "metadata": {},
   "source": [
    "You'll see the topic connections being established. At that moment, you can communicate with the topics offered by the simulation from ROS2."
   ]
  },
  {
   "cell_type": "markdown",
   "metadata": {},
   "source": [
    "<div>\n",
    "    <h1 class=\"text-center\">\n",
    "        <span class=\"text-primary\">Section 1</span>\n",
    "        &nbsp;\n",
    "        <span class=\"\">Topics</span>\n",
    "    </h1>\n",
    "</div>"
   ]
  },
  {
   "cell_type": "markdown",
   "metadata": {},
   "source": [
    "Practice using topics to control a robot. Your goal is to create a ROS program that makes the robot have a wall-following behavior."
   ]
  },
  {
   "cell_type": "markdown",
   "metadata": {},
   "source": [
    "<h1 align=\"center\";> </h1>\n",
    "<div>\n",
    "    <h1 class=\"text-center\">\n",
    "        <span class=\"text-primary\">1.1</span>\n",
    "        &nbsp;\n",
    "        <span class=\"\">Wall following behavior</span>\n",
    "    </h1>\n",
    "</div>"
   ]
  },
  {
   "cell_type": "markdown",
   "metadata": {},
   "source": [
    "**You will be writing nodes inside of packages, so make sure you review how to create an executable python file inside of a catkin package. This is explained in the course, and you can check it in the course notebooks icon in the bottom menu bar.**"
   ]
  },
  {
   "cell_type": "markdown",
   "metadata": {},
   "source": [
    "The wall following behavior is a behavior that makes the robot **follow along the wall on its right hand side**. This means that the robot must be moving forward at a 30cm distance from the wall, having the wall on its right hand side, the entire time.\n",
    "\n",
    "To achieve this behavior in the robot, you need to do two things:\n",
    "\n",
    "1. **Subscribe to the laser topic of the robot**\n",
    "\n",
    "    You need to subscribe to the laser topic and capture the rays. Select the ray on the right (the one that makes a 90º angle to the right with the front of the robot) and use it to measure the robot's distance to the wall.\n",
    "    \n",
    "    **NOTE:** The topics for different simulations most likely will not be named the same. So make sure that you are using the correct name. For example, you used `/kobuki/laser/scan` during the course. The laser topic in this simulation is `/scan`\n",
    "    \n",
    "    \n",
    "2. **Publish to the velocity topic of the robot**\n",
    "    \n",
    "    * If the ray distance is **bigger than 0.3m**, you need to make the robot approach the wall a little, by adding some rotational speed to the robot\n",
    "    * If the ray distance is **smaller than 0.2m**, you need to move the robot away from the wall, by adding rotational speed in the opposite direction\n",
    "    * If the ray distance is **between 0.2m and 0.3m**, just keep the robot moving forward\n",
    "    \n",
    "    **IMPORTANT**\n",
    "\n",
    "    When the robot is moving along a wall, it can reach the next wall crossing its way. At that point in time, you should include a behavior that progressively transitions the robot from following the current wall to the next one.\n",
    "\n",
    "    For that, we recommend that you use the front laser ray. If the distance measured by that ray is shorter than 0.5m, then make the robot turn fast to the left (moving forward at the same time).\n",
    "\n",
    "    The result of this behavior must be that the robot moves along the whole environment (see video below)."
   ]
  },
  {
   "cell_type": "markdown",
   "metadata": {},
   "source": [
    "<div class=\"bg-info text-center\">\n",
    "    - Notes -\n",
    "</div>\n",
    "\n",
    "<span style=\"color:red;\">**IMPORTANT**: Place all the files that you create during this project inside the **ros2_ws**. You can create different packages for each part of the project or place all the files in a single package. It's up to you.</span>\n",
    "\n",
    "You will see that this rosject contains workspaces, in addition to the *ros2_ws*\n",
    "\n",
    "Ignore the other workspaces since you will only be working in the **ros2_ws**.\n",
    "\n",
    "Also, you will notice that there are already some packages inside the *ros2_ws*:\n",
    "\n",
    "These packages are used for the simulation, so you can ignore them. **DON'T USE** these packages for placing your programs. Instead, create new packages to place this project's code."
   ]
  },
  {
   "cell_type": "markdown",
   "metadata": {},
   "source": [
    "<div class=\"bg-info text-center\">\n",
    "    - End of Notes -\n",
    "</div>"
   ]
  },
  {
   "cell_type": "markdown",
   "metadata": {},
   "source": [
    "<h1 align=\"center\";> </h1>\n",
    "<div>\n",
    "    <h1 class=\"text-center\">\n",
    "        <span class=\"text-primary\">1.2</span>\n",
    "        &nbsp;\n",
    "        <span class=\"\">Test your program in the simulation</span>\n",
    "    </h1>\n",
    "</div>"
   ]
  },
  {
   "cell_type": "markdown",
   "metadata": {},
   "source": [
    "Create the wall-following program and test it on the simulation. \n",
    "\n",
    "**If the program doesn't work on the simulation, it is 100% not going to work on the real robot.**\n",
    "\n",
    "Real-life robot development works this way: first, test your program in a simulation. When it works there, try it on a real robot. Never the other way around."
   ]
  },
  {
   "cell_type": "markdown",
   "metadata": {},
   "source": [
    "<img src=\"wall_follow_long.gif\"/>"
   ]
  },
  {
   "cell_type": "markdown",
   "metadata": {},
   "source": [
    "Follow the steps below to test your program in the simulation:\n",
    "\n",
    "1. Make sure the simulation is launched, as explained above.\n",
    "   \n",
    "2. In another terminal, launch the keyboard teleop with the following command:"
   ]
  },
  {
   "cell_type": "markdown",
   "metadata": {},
   "source": [
    "<span class=\"badge badge-pill badge-primary\">\n",
    "    <i class=\"fa fa-play\"></i>\n",
    "    &nbsp;\n",
    "    Execute in a Shell\n",
    "</span>"
   ]
  },
  {
   "cell_type": "code",
   "execution_count": null,
   "metadata": {},
   "outputs": [],
   "source": [
    "source /opt/ros/noetic/setup.bash\n",
    "source ~/simulation_ws/devel/setup.bash\n",
    "rosrun turtlebot3_teleop turtlebot3_teleop_key"
   ]
  },
  {
   "cell_type": "markdown",
   "metadata": {},
   "source": [
    "3. Now use the keys to move the robot to a convenient position to test your ROS program. This means, close to a wall, looking along it. Remember that to move the robot with the keys, **the terminal where you launched the teleop has to have the focus**.\n",
    "\n",
    "**IMPORTANT**: close this *teleop* program once you have the proper position. Otherwise, it will interfere with your program.\n",
    "\n",
    "4. Now launch your ROS program and see the results. If the robot doesn't behave correctly, debug your program and try to figure out the reason."
   ]
  },
  {
   "cell_type": "markdown",
   "metadata": {},
   "source": [
    "<h1 align=\"center\";> </h1>\n",
    "<div>\n",
    "    <h1 class=\"text-center\">\n",
    "        <span class=\"text-primary\">1.3</span>\n",
    "        &nbsp;\n",
    "        <span class=\"\">If program works in simulation, then go to the real robot</span>\n",
    "    </h1>\n",
    "</div>"
   ]
  },
  {
   "cell_type": "markdown",
   "metadata": {},
   "source": [
    "Once the robot is moving along the walls of the simulated environment, it is time for you to test it on the real robot.\n",
    "\n",
    "The steps are:\n",
    "1. Book a date and time in the *Real Robot Lab* to test your program (see Appendix below that teaches how to do that).\n",
    "2. On the day and time selected, open this rosject.\n",
    "3. Connect to the real robot lab from within this rosject (see Appendix below).\n",
    "4. Launch the keyboard program and move the real robot to the proper position to start when you launch your program.\n",
    "5. Launch your program and see if it works properly. Chances are it will not because simulation is not an exact copy of the real environment. Now is your time to debug. \n",
    "6. Test on the real robot and debug your errors until you have it working as intended."
   ]
  },
  {
   "cell_type": "markdown",
   "metadata": {},
   "source": [
    "<img src=\"realrobotlab_notebooks/realrobot_follow_wall.gif\"/>"
   ]
  },
  {
   "cell_type": "markdown",
   "metadata": {},
   "source": [
    "<div>\n",
    "    <h1 class=\"text-center\">\n",
    "        <span class=\"text-primary\">Section 2</span>\n",
    "        &nbsp;\n",
    "        <span class=\"\">Services</span>\n",
    "    </h1>\n",
    "</div>"
   ]
  },
  {
   "cell_type": "markdown",
   "metadata": {},
   "source": [
    "The goal in this section is to **Create a service server that, when called, makes robot search for the nearest wall.**\n",
    "\n",
    "To accomplish this, you will have to do three things:\n",
    "\n",
    "1. Create a service server that, when called, will make the robot go to the nearest wall\n",
    "2. Modify the program from Section 1 so that it calls the service server **before** starting the wall following behavior\n",
    "3. Create a new launch file to launch both nodes (wall following node and service server)"
   ]
  },
  {
   "cell_type": "markdown",
   "metadata": {},
   "source": [
    "<h1 align=\"center\";> </h1>\n",
    "<div>\n",
    "    <h1 class=\"text-center\">\n",
    "        <span class=\"text-primary\">2.1</span>\n",
    "        &nbsp;\n",
    "        <span class=\"\">Create Service Server</span>\n",
    "    </h1>\n",
    "</div>"
   ]
  },
  {
   "cell_type": "markdown",
   "metadata": {},
   "source": [
    "* Create a new ROS node that contains a service server named `find_wall`. The server uses a `FindWall` message that you must create:"
   ]
  },
  {
   "cell_type": "code",
   "execution_count": null,
   "metadata": {},
   "outputs": [],
   "source": [
    "FindWall.srv\n",
    "\n",
    "---\n",
    "bool wallfound"
   ]
  },
  {
   "cell_type": "markdown",
   "metadata": {},
   "source": [
    "When the service is called, the robot must perform the following behavior:\n",
    "\n",
    "1. Identify which laser ray is the shortest one. Assume that this is the one pointing to a wall.\n",
    "2. Rotate the robot until the front of it is facing the wall. This can be done by publishing an angular velocity until front ray is the smallest one.\n",
    "3. Move the robot forward until the front ray is smaller than 30cm.\n",
    "4. Now rotate the robot again until ray number 270 of the laser ranges is pointing to the wall.\n",
    "5. At this point, consider that the robot is ready to start following the wall.\n",
    "6. Return the service message with `True`."
   ]
  },
  {
   "cell_type": "markdown",
   "metadata": {},
   "source": [
    "<h1 align=\"center\";> </h1>\n",
    "<div>\n",
    "    <h1 class=\"text-center\">\n",
    "        &nbsp;\n",
    "        <span class=\"\">Test Service Server</span>\n",
    "    </h1>\n",
    "</div>"
   ]
  },
  {
   "cell_type": "markdown",
   "metadata": {},
   "source": [
    "1. Run the service server node\n",
    "2. Use the terminal to test the server with a service call command:"
   ]
  },
  {
   "cell_type": "markdown",
   "metadata": {},
   "source": [
    "<span class=\"badge badge-pill badge-primary\">\n",
    "    <i class=\"fa fa-play\"></i>\n",
    "    &nbsp;\n",
    "    Execute in Terminal #2\n",
    "</span>"
   ]
  },
  {
   "cell_type": "code",
   "execution_count": null,
   "metadata": {},
   "outputs": [],
   "source": [
    "ros2 service call /find_wall std_srvs/Empty '{}'"
   ]
  },
  {
   "cell_type": "markdown",
   "metadata": {},
   "source": [
    "This should start the robot's movement looking for the wall."
   ]
  },
  {
   "cell_type": "markdown",
   "metadata": {},
   "source": [
    "<h1 align=\"center\";> </h1>\n",
    "<div>\n",
    "    <h1 class=\"text-center\">\n",
    "        <span class=\"text-primary\">2.2</span>\n",
    "        &nbsp;\n",
    "        <span class=\"\">Add server call to Section 1 program</span>\n",
    "    </h1>\n",
    "</div>"
   ]
  },
  {
   "cell_type": "markdown",
   "metadata": {},
   "source": [
    "* Add a service client to the Part I node.\n",
    "* Call the service before the control loop of that node, so the robot gets prepared autonomously before following the wall."
   ]
  },
  {
   "cell_type": "markdown",
   "metadata": {},
   "source": [
    "<h1 align=\"center\";> </h1>\n",
    "<div>\n",
    "    <h1 class=\"text-center\">\n",
    "        &nbsp;\n",
    "        <span class=\"\">Test Service Client</span>\n",
    "    </h1>\n",
    "</div>"
   ]
  },
  {
   "cell_type": "markdown",
   "metadata": {},
   "source": [
    "* Launch the service server node.\n",
    "* Launch the wall following node. \n",
    "\n",
    "This should start the robot movement (first the robot looks for the wall, then starts to follow the wall)."
   ]
  },
  {
   "cell_type": "markdown",
   "metadata": {},
   "source": [
    "<h1 align=\"center\";> </h1>\n",
    "<div>\n",
    "    <h1 class=\"text-center\">\n",
    "        <span class=\"text-primary\">2.3</span>\n",
    "        &nbsp;\n",
    "        <span class=\"\">Create new launch file</span>\n",
    "    </h1>\n",
    "</div>"
   ]
  },
  {
   "cell_type": "markdown",
   "metadata": {},
   "source": [
    "1. Create a new launch file named `main.launch.py` that launches both nodes: first the service server node and then the wall following node.\n",
    "\n",
    "This should start the robot movement (first the robot looks for the wall, then it starts to follow it).\n",
    "\n",
    "**IMPORTANT**: Test everything on the simulation. When it works in the simulation, book a date in the *Real Robot Lab* and make it work there, too. Same as in Section 1."
   ]
  },
  {
   "cell_type": "markdown",
   "metadata": {},
   "source": [
    "<div>\n",
    "    <h1 class=\"text-center\">\n",
    "        <span class=\"text-primary\">Section 3</span>\n",
    "        &nbsp;\n",
    "        <span class=\"\">Actions</span>\n",
    "    </h1>\n",
    "</div>"
   ]
  },
  {
   "cell_type": "markdown",
   "metadata": {},
   "source": [
    "### Create an action server that records odometry"
   ]
  },
  {
   "cell_type": "markdown",
   "metadata": {},
   "source": [
    "The goal of this section is to **create an action server that records the robot's odometry.**\n",
    "\n",
    "1. Create an action server that, when called, starts recording odometry\n",
    "2. Add a call to the action server from the wall following node\n",
    "3. Include the launch of the action server in `main.launch.py`"
   ]
  },
  {
   "cell_type": "markdown",
   "metadata": {},
   "source": [
    "<h1 align=\"center\";> </h1>\n",
    "<div>\n",
    "    <h1 class=\"text-center\">\n",
    "        <span class=\"text-primary\">3.1</span>\n",
    "        &nbsp;\n",
    "        <span class=\"\">Create action server</span>\n",
    "    </h1>\n",
    "</div>"
   ]
  },
  {
   "cell_type": "markdown",
   "metadata": {},
   "source": [
    "1. Create a new node that contains an action server named `record_odom`. The server uses an `OdomRecord.action` message that you must also create:"
   ]
  },
  {
   "cell_type": "markdown",
   "metadata": {},
   "source": [
    "<span class=\"badge badge-pill badge-primary\">\n",
    "    <i class=\"fa fa-file\"></i>\n",
    "    &nbsp;\n",
    "    OdomRecord.action\n",
    "</span>"
   ]
  },
  {
   "cell_type": "code",
   "execution_count": null,
   "metadata": {},
   "outputs": [],
   "source": [
    "\n",
    "---\n",
    "geometry_msgs/msg/Point[] list_of_odoms\n",
    "---\n",
    "float32 current_total"
   ]
  },
  {
   "cell_type": "markdown",
   "metadata": {},
   "source": [
    "* The server must start recording the (x, y, theta) odometry of the robot as a Point32, one measure every second. \n",
    "* As feedback, the action server must provide the total amount of meters that the robot has moved so far.\n",
    "* When the robot has done a complete lap, it has to finish and return the list of odometries recorded."
   ]
  },
  {
   "cell_type": "markdown",
   "metadata": {},
   "source": [
    "<h1 align=\"center\";> </h1>\n",
    "<div>\n",
    "    <h1 class=\"text-center\">\n",
    "        &nbsp;\n",
    "        <span class=\"\">Test Action Server</span>\n",
    "    </h1>\n",
    "</div>"
   ]
  },
  {
   "cell_type": "markdown",
   "metadata": {},
   "source": [
    "\n",
    "* Launch the action server node\n",
    "* Use ros2 action list to check your created action is there\n",
    "* Use ros2 action call to the server"
   ]
  },
  {
   "cell_type": "markdown",
   "metadata": {},
   "source": [
    "<h1 align=\"center\";> </h1>\n",
    "<div>\n",
    "    <h1 class=\"text-center\">\n",
    "        <span class=\"text-primary\">3.2</span>\n",
    "        &nbsp;\n",
    "        <span class=\"\">Add action call to Section 1 program</span>\n",
    "    </h1>\n",
    "</div>"
   ]
  },
  {
   "cell_type": "markdown",
   "metadata": {},
   "source": [
    "* Add an action service client to the Sectionnode.\n",
    "* Call the action server before the control loop of that node, so the robot starts recording odometry before following the wall."
   ]
  },
  {
   "cell_type": "markdown",
   "metadata": {},
   "source": [
    "<h1 align=\"center\";> </h1>\n",
    "<div>\n",
    "    <h1 class=\"text-center\">\n",
    "        &nbsp;\n",
    "        <span class=\"\">Test Action Client</span>\n",
    "    </h1>\n",
    "</div>"
   ]
  },
  {
   "cell_type": "markdown",
   "metadata": {},
   "source": [
    "* Launch the action server node.\n",
    "* Launch the *main.launch.py*. \n",
    "\n",
    "This should start the robot movement and start recording.\n",
    "\n",
    "* Check the feedback topic of the action server to see how it is going."
   ]
  },
  {
   "cell_type": "markdown",
   "metadata": {},
   "source": [
    "<h1 align=\"center\";> </h1>\n",
    "<div>\n",
    "    <h1 class=\"text-center\">\n",
    "        <span class=\"text-primary\">3.3</span>\n",
    "        &nbsp;\n",
    "        <span class=\"\">Add action server to main launch file</span>\n",
    "    </h1>\n",
    "</div>"
   ]
  },
  {
   "cell_type": "markdown",
   "metadata": {},
   "source": [
    "* Add to `main.launch.py` the launch of the action server node."
   ]
  },
  {
   "cell_type": "markdown",
   "metadata": {},
   "source": [
    "This should start the robot movement and odometry recording.\n",
    "\n",
    "**IMPORTANT**: Test everything on the simulation. When it works in the simulation, book a date in the *Real Robot Lab* and make it work there, too. Same as in Section 1 and 2."
   ]
  },
  {
   "cell_type": "markdown",
   "metadata": {},
   "source": [
    "<div>\n",
    "    <h1 class=\"text-center\">\n",
    "        <span class=\"text-primary\">Section 4</span>\n",
    "        &nbsp;\n",
    "        <span class=\"\">Book a date to present your project on YouTube (optional)</span>\n",
    "    </h1>\n",
    "</div>"
   ]
  },
  {
   "cell_type": "markdown",
   "metadata": {},
   "source": [
    "An important part of your learning is to teach others what you have learned.\n",
    "\n",
    "To get the most out of your learning, you should present your project.\n",
    "\n",
    "If you're ready to take this brave step, contact The Construct at info@theconstructsim.com and request a presentation. We can agree on a day and time.\n",
    "\n",
    "In the presentation, **you will be asked to do the following**:\n",
    "\n",
    "1. Prepare your presentation. Explain your project in 20 minutes: How did you solve your project, and how does it work?\n",
    "2. On the agreed day, have a camera and mic ready.\n",
    "3. WThe Construct will contact you on the day and prepare the whole broadcast. We handle the technical details. You only need to be ready to present.\n",
    "\n",
    "The event will broadcast on YouTube, so anybody around the world can attend and watch your presentation."
   ]
  },
  {
   "cell_type": "markdown",
   "metadata": {},
   "source": [
    "\n",
    "It's important to remark that, although this step is optional, it is mandatory in order to get the certificate of the course. **Without successfully completing the presentation, you won't be able to earn the course certificate**.\n",
    "\n",
    "<img src=\"ros2-basics-python-cert.png\" width=\"600\" />"
   ]
  },
  {
   "cell_type": "markdown",
   "metadata": {},
   "source": [
    "<div>\n",
    "    <h1 class=\"text-center\">\n",
    "        <span class=\"text-primary\">Section 5</span>\n",
    "        &nbsp;\n",
    "        <span class=\"\">Share your project on LinkedIn or social networks</span>\n",
    "    </h1>\n",
    "</div>"
   ]
  },
  {
   "cell_type": "markdown",
   "metadata": {},
   "source": [
    "The rosject that you created is a demonstration of your skill and value as a ROS Developer.\n",
    "\n",
    "You can share your rosject on any website to show the ROS projects you have worked on. Examples of your capability can encourage potential employers to contact you."
   ]
  },
  {
   "cell_type": "markdown",
   "metadata": {},
   "source": [
    "To share your rosject, follow the steps below:\n",
    "* Go to your list of rosjects.\n",
    "* Click on your rosjects Share button to get the share link.\n",
    "\n",
    "<img src=\"ros2_basics_share_rosject.png\" width=\"400\"/>\n",
    "\n",
    "* Publish the link anywhere. Remember to use the *Permanent link*.\n",
    "\n",
    "<img src=\"sharelink.png\" width=\"400\"/>"
   ]
  },
  {
   "cell_type": "markdown",
   "metadata": {},
   "source": [
    "<div>\n",
    "    <h1 class=\"text-center\">\n",
    "        <span class=\"text-primary\">Appendix</span>\n",
    "        &nbsp;\n",
    "        <span class=\"\">How to connect to the real robot</span>\n",
    "    </h1>\n",
    "</div>"
   ]
  },
  {
   "cell_type": "markdown",
   "metadata": {},
   "source": [
    "Once you know the basics of the operation with a simulated version, it's time to practice what you've learned with a TurtleBot3 robot.\n",
    "\n",
    "### Book up to two 25-minute sessions per week\n",
    "\n",
    "To make a booking, follow these simple steps:"
   ]
  },
  {
   "cell_type": "markdown",
   "metadata": {},
   "source": [
    "<div>\n",
    "    <h2 class=\"text-center\">\n",
    "        <span class=\"text-primary\">Step 1</span>\n",
    "        &nbsp;\n",
    "        <span class=\"\">Book a Session</span>\n",
    "    </h2>\n",
    "</div>"
   ]
  },
  {
   "cell_type": "markdown",
   "metadata": {},
   "source": [
    "From The Construct's main dashboard, book a session by clicking on the icon seen below:"
   ]
  },
  {
   "cell_type": "markdown",
   "metadata": {},
   "source": [
    "<img src=\"realrobotlab_notebooks/reallab2.png\"/>"
   ]
  },
  {
   "cell_type": "markdown",
   "metadata": {},
   "source": [
    "A booking page will appear. From the booking page, do two things:\n",
    "\n",
    "* Check for bookings you have completed.\n",
    "\n",
    "<img src=\"realrobotlab_notebooks/bookasession.png\"/>\n",
    "\n",
    "* Make a new booking.\n",
    "\n",
    "<img src=\"realrobotlab_notebooks/bookings.png\"/>"
   ]
  },
  {
   "cell_type": "markdown",
   "metadata": {},
   "source": [
    "You can either click on `Book a robot` on the bottom and then select the Turtlebot, or just click on `Book now` where the image of the turtlebot is and select the date and time for your reservation:"
   ]
  },
  {
   "cell_type": "markdown",
   "metadata": {},
   "source": [
    "<img src=\"realrobotlab_notebooks/reservet3.png\"/>"
   ]
  },
  {
   "cell_type": "markdown",
   "metadata": {},
   "source": [
    "Only the **available dates and times** are shown. They come in **25-minute blocks**.\n",
    "\n",
    "There is also a limitation on the number of bookings per week a user can make.\n",
    "\n",
    "Your number of available bookings depends on your license and subscription."
   ]
  },
  {
   "cell_type": "markdown",
   "metadata": {},
   "source": [
    "<img src=\"realrobotlab_notebooks/confirm.png\"/>"
   ]
  },
  {
   "cell_type": "markdown",
   "metadata": {},
   "source": [
    "<div>\n",
    "    <h1 class=\"text-center\">\n",
    "        <span class=\"text-primary\">Step 2</span>\n",
    "        &nbsp;\n",
    "        <span class=\"\">Open project rosject</span>\n",
    "    </h1>\n",
    "</div>"
   ]
  },
  {
   "cell_type": "markdown",
   "metadata": {},
   "source": [
    "For the best experience, launch the rosject with the TurtleBot3 simulation. If you are reading this, likely you have already launched the simulation."
   ]
  },
  {
   "cell_type": "markdown",
   "metadata": {},
   "source": [
    "Approximately **one hour before the start** of your booked session, you will receive a warning icon. The warning icon will appear in The Construct's top bar. This will be indicated as an orange dot. It means that you have less than an hour to finalize preparation for your session. You will also see a countdown to your session start."
   ]
  },
  {
   "cell_type": "markdown",
   "metadata": {},
   "source": [
    "<img src=\"realrobotlab_notebooks/remaining.png\"/>"
   ]
  },
  {
   "cell_type": "markdown",
   "metadata": {},
   "source": [
    "The orange dot will turn red when your booked session has started."
   ]
  },
  {
   "cell_type": "markdown",
   "metadata": {},
   "source": [
    "**Note**: When you are inside a rosject, the icon for accessing the external camera will appear in the icons located at the bottom.\n",
    "\n",
    "Click the icon below to have an overview of the robot space."
   ]
  },
  {
   "cell_type": "markdown",
   "metadata": {},
   "source": [
    "<img src=\"realrobotlab_notebooks/stream_icon.png\"/>"
   ]
  },
  {
   "cell_type": "markdown",
   "metadata": {},
   "source": [
    "<img src=\"realrobotlab_notebooks/stream_image.png\"/>"
   ]
  },
  {
   "cell_type": "markdown",
   "metadata": {},
   "source": [
    "<div>\n",
    "    <h1 class=\"text-center\">\n",
    "        <span class=\"text-primary\">Step 3</span>\n",
    "        &nbsp;\n",
    "        <span class=\"\">Turn ON robot connection</span>\n",
    "    </h1>\n",
    "</div>"
   ]
  },
  {
   "cell_type": "markdown",
   "metadata": {},
   "source": [
    "Once you are inside the rosject and your real robot session has started, click on the robot icon at the bottom. A popup with a toggle for **turning on the connection** will appear.\n",
    "\n",
    "**WARNING: Nothing will appear unless you have a booking. So if you didn't make a booking in the dashboard, feel free to do so.**\n",
    "\n",
    "Now you just have to click on the toggle to connect the desktop environment to the remote lab. This will start the connection process, which lasts for a few seconds. \n",
    "\n",
    "Once the connection process is finished, the **red dot will change to green** if succesfully connected. Now **any terminal you open will show the topics and services of the real robot**.\n",
    "\n",
    "Move the joystick around to confirm you are connected to the robot:"
   ]
  },
  {
   "cell_type": "markdown",
   "metadata": {},
   "source": [
    "<img src=\"realrobotlab_notebooks/rrl.gif\"/>"
   ]
  },
  {
   "cell_type": "markdown",
   "metadata": {},
   "source": [
    "You can perform the following command, generating a list of topics similar to the list below. The first time you issue a ROS command, it could take an extra 30 seconds to appear:"
   ]
  },
  {
   "cell_type": "markdown",
   "metadata": {},
   "source": [
    "<table style=\"float:left;background: #407EAF\">\n",
    "<tr>\n",
    "<th>\n",
    "<p class=\"transparent\">Execute in WebShell #1</p>\n",
    "</th>\n",
    "</tr>\n",
    "</table>"
   ]
  },
  {
   "cell_type": "code",
   "execution_count": null,
   "metadata": {},
   "outputs": [],
   "source": [
    "rostopic list"
   ]
  },
  {
   "cell_type": "code",
   "execution_count": null,
   "metadata": {},
   "outputs": [],
   "source": [
    "/battery_state\n",
    "/cmd_vel\n",
    "/cmd_vel_rc100\n",
    "/diagnostics\n",
    "/firmware_version\n",
    "/imu\n",
    "/joint_states\n",
    "/magnetic_field\n",
    "/motor_power\n",
    "/odom\n",
    "/reset\n",
    "/rosout\n",
    "/rosout_agg\n",
    "/rpms\n",
    "/scan\n",
    "/sensor_state\n",
    "/sound\n",
    "/tf\n",
    "/tf_static\n",
    "/version_info"
   ]
  },
  {
   "cell_type": "markdown",
   "metadata": {},
   "source": [
    "Note: **You cannot push Git changes when turned on because there is no internet connection**. Take this into consideration when planning.\n",
    "\n",
    "To push any changes in your remote Gits in the rosject, turn off the connection (or wait until your session has ended)."
   ]
  },
  {
   "cell_type": "markdown",
   "metadata": {},
   "source": [
    "You are now connected to the robot! Try moving the robot around to see the lasers and the camera in RVIZ."
   ]
  },
  {
   "cell_type": "markdown",
   "metadata": {},
   "source": [
    "<span style='background :orange' >Move the robot around: Be careful **NOT to exceed a linear speed of 0.19 and an angular speed of 0.49**. Otherwise, the node will be terminated for security reasons.</span>"
   ]
  },
  {
   "cell_type": "markdown",
   "metadata": {},
   "source": [
    "<span class=\"badge badge-pill badge-primary\">\n",
    "    <i class=\"fa fa-play\"></i>\n",
    "    &nbsp;\n",
    "    Execute in Terminal #1\n",
    "</span>"
   ]
  },
  {
   "cell_type": "code",
   "execution_count": null,
   "metadata": {},
   "outputs": [],
   "source": [
    "rviz"
   ]
  },
  {
   "cell_type": "markdown",
   "metadata": {},
   "source": [
    "Now, add an image and scan elements in the **base_link** frame. You should receive a result similar to the following:"
   ]
  },
  {
   "cell_type": "markdown",
   "metadata": {},
   "source": [
    "<img src=\"realrobotlab_notebooks/robox_demo_t3.gif\" width=1200/>"
   ]
  },
  {
   "cell_type": "markdown",
   "metadata": {},
   "source": [
    "## Ready for your programs!\n",
    "\n",
    "If you have reached this point, it means that you have a proper connection with the remote real robot lab. **Now you can launch the programs of your project and see the results on a real robot**."
   ]
  }
 ],
 "metadata": {
  "kernelspec": {
   "display_name": "Python 2",
   "language": "python",
   "name": "python2"
  },
  "language_info": {
   "codemirror_mode": {
    "name": "ipython",
    "version": 2
   },
   "file_extension": ".py",
   "mimetype": "text/x-python",
   "name": "python",
   "nbconvert_exporter": "python",
   "pygments_lexer": "ipython2",
   "version": "2.7.16"
  }
 },
 "nbformat": 4,
 "nbformat_minor": 1
}
